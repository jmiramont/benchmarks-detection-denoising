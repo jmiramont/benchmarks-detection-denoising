{
 "cells": [
  {
   "cell_type": "markdown",
   "id": "0dc0b623",
   "metadata": {},
   "source": [
    "# Displaying results for the signal denoising benchmark\n",
    "### Using a correlation coefficient as performance metric.\n",
    "\n",
    "This notebooks loads the results of the benchmark and generates the figures shown in the paper."
   ]
  },
  {
   "cell_type": "code",
   "execution_count": 1,
   "id": "937428c9",
   "metadata": {},
   "outputs": [],
   "source": [
    "import numpy as np\n",
    "from matplotlib import pyplot as plt\n",
    "from mpl_toolkits.axes_grid1.inset_locator import inset_axes\n",
    "from mcsm_benchs.Benchmark import Benchmark\n",
    "from mcsm_benchs.ResultsInterpreter import ResultsInterpreter\n",
    "from mcsm_benchs.SignalBank import SignalBank\n",
    "from src.utilities.utilstf import get_spectrogram\n",
    "import os\n"
   ]
  },
  {
   "cell_type": "code",
   "execution_count": 2,
   "id": "94cfe65a",
   "metadata": {},
   "outputs": [],
   "source": [
    "# Load the benchmark results\n",
    "filename = os.path.join('..','results','last_benchmark_denoising_CC')\n",
    "benchmark = Benchmark.load_benchmark(filename)\n",
    "\n",
    "# Load interpreter.\n",
    "interpreter = ResultsInterpreter(benchmark)"
   ]
  },
  {
   "cell_type": "code",
   "execution_count": 3,
   "id": "02ad6d89",
   "metadata": {},
   "outputs": [
    {
     "data": {
      "text/html": [
       "<div>\n",
       "<style scoped>\n",
       "    .dataframe tbody tr th:only-of-type {\n",
       "        vertical-align: middle;\n",
       "    }\n",
       "\n",
       "    .dataframe tbody tr th {\n",
       "        vertical-align: top;\n",
       "    }\n",
       "\n",
       "    .dataframe thead th {\n",
       "        text-align: right;\n",
       "    }\n",
       "</style>\n",
       "<table border=\"1\" class=\"dataframe\">\n",
       "  <thead>\n",
       "    <tr style=\"text-align: right;\">\n",
       "      <th></th>\n",
       "      <th>SNRin</th>\n",
       "      <th>Method</th>\n",
       "      <th>Parameter</th>\n",
       "      <th>Signal_id</th>\n",
       "      <th>Repetition</th>\n",
       "      <th>QRF</th>\n",
       "    </tr>\n",
       "  </thead>\n",
       "  <tbody>\n",
       "    <tr>\n",
       "      <th>0</th>\n",
       "      <td>-5</td>\n",
       "      <td>brevdo_method</td>\n",
       "      <td>((), {})</td>\n",
       "      <td>HermiteFunction</td>\n",
       "      <td>0</td>\n",
       "      <td>0.697859</td>\n",
       "    </tr>\n",
       "    <tr>\n",
       "      <th>1</th>\n",
       "      <td>-5</td>\n",
       "      <td>brevdo_method</td>\n",
       "      <td>((), {})</td>\n",
       "      <td>HermiteFunction</td>\n",
       "      <td>1</td>\n",
       "      <td>0.664181</td>\n",
       "    </tr>\n",
       "    <tr>\n",
       "      <th>2</th>\n",
       "      <td>-5</td>\n",
       "      <td>brevdo_method</td>\n",
       "      <td>((), {})</td>\n",
       "      <td>HermiteFunction</td>\n",
       "      <td>2</td>\n",
       "      <td>0.582211</td>\n",
       "    </tr>\n",
       "    <tr>\n",
       "      <th>3</th>\n",
       "      <td>-5</td>\n",
       "      <td>brevdo_method</td>\n",
       "      <td>((), {})</td>\n",
       "      <td>HermiteFunction</td>\n",
       "      <td>3</td>\n",
       "      <td>0.527699</td>\n",
       "    </tr>\n",
       "    <tr>\n",
       "      <th>4</th>\n",
       "      <td>-5</td>\n",
       "      <td>brevdo_method</td>\n",
       "      <td>((), {})</td>\n",
       "      <td>HermiteFunction</td>\n",
       "      <td>4</td>\n",
       "      <td>0.534738</td>\n",
       "    </tr>\n",
       "    <tr>\n",
       "      <th>...</th>\n",
       "      <td>...</td>\n",
       "      <td>...</td>\n",
       "      <td>...</td>\n",
       "      <td>...</td>\n",
       "      <td>...</td>\n",
       "      <td>...</td>\n",
       "    </tr>\n",
       "    <tr>\n",
       "      <th>21595</th>\n",
       "      <td>20</td>\n",
       "      <td>thresholding_hard</td>\n",
       "      <td>((), {})</td>\n",
       "      <td>McSyntheticMixture3</td>\n",
       "      <td>95</td>\n",
       "      <td>0.999153</td>\n",
       "    </tr>\n",
       "    <tr>\n",
       "      <th>21596</th>\n",
       "      <td>20</td>\n",
       "      <td>thresholding_hard</td>\n",
       "      <td>((), {})</td>\n",
       "      <td>McSyntheticMixture3</td>\n",
       "      <td>96</td>\n",
       "      <td>0.999063</td>\n",
       "    </tr>\n",
       "    <tr>\n",
       "      <th>21597</th>\n",
       "      <td>20</td>\n",
       "      <td>thresholding_hard</td>\n",
       "      <td>((), {})</td>\n",
       "      <td>McSyntheticMixture3</td>\n",
       "      <td>97</td>\n",
       "      <td>0.998889</td>\n",
       "    </tr>\n",
       "    <tr>\n",
       "      <th>21598</th>\n",
       "      <td>20</td>\n",
       "      <td>thresholding_hard</td>\n",
       "      <td>((), {})</td>\n",
       "      <td>McSyntheticMixture3</td>\n",
       "      <td>98</td>\n",
       "      <td>0.998914</td>\n",
       "    </tr>\n",
       "    <tr>\n",
       "      <th>21599</th>\n",
       "      <td>20</td>\n",
       "      <td>thresholding_hard</td>\n",
       "      <td>((), {})</td>\n",
       "      <td>McSyntheticMixture3</td>\n",
       "      <td>99</td>\n",
       "      <td>0.998924</td>\n",
       "    </tr>\n",
       "  </tbody>\n",
       "</table>\n",
       "<p>21600 rows × 6 columns</p>\n",
       "</div>"
      ],
      "text/plain": [
       "       SNRin             Method Parameter            Signal_id  Repetition  \\\n",
       "0         -5      brevdo_method  ((), {})      HermiteFunction           0   \n",
       "1         -5      brevdo_method  ((), {})      HermiteFunction           1   \n",
       "2         -5      brevdo_method  ((), {})      HermiteFunction           2   \n",
       "3         -5      brevdo_method  ((), {})      HermiteFunction           3   \n",
       "4         -5      brevdo_method  ((), {})      HermiteFunction           4   \n",
       "...      ...                ...       ...                  ...         ...   \n",
       "21595     20  thresholding_hard  ((), {})  McSyntheticMixture3          95   \n",
       "21596     20  thresholding_hard  ((), {})  McSyntheticMixture3          96   \n",
       "21597     20  thresholding_hard  ((), {})  McSyntheticMixture3          97   \n",
       "21598     20  thresholding_hard  ((), {})  McSyntheticMixture3          98   \n",
       "21599     20  thresholding_hard  ((), {})  McSyntheticMixture3          99   \n",
       "\n",
       "            QRF  \n",
       "0      0.697859  \n",
       "1      0.664181  \n",
       "2      0.582211  \n",
       "3      0.527699  \n",
       "4      0.534738  \n",
       "...         ...  \n",
       "21595  0.999153  \n",
       "21596  0.999063  \n",
       "21597  0.998889  \n",
       "21598  0.998914  \n",
       "21599  0.998924  \n",
       "\n",
       "[21600 rows x 6 columns]"
      ]
     },
     "execution_count": 3,
     "metadata": {},
     "output_type": "execute_result"
    }
   ],
   "source": [
    "# Get report and figures for the paper/repository\n",
    "\n",
    "# Interactive figures shown in the repo\n",
    "interpreter.get_html_figures(path='../results/denoising_CC', bars=True, ylabel='CC')\n",
    "\n",
    "# .csv files for sharing results\n",
    "interpreter.get_csv_files(path='../results/denoising_CC')\n",
    "\n",
    "# Report shown in the repo \n",
    "interpreter.save_report(filename='results_denoising_CC.md', path='../results', link='https://jmiramont.github.io/benchmarks-detection-denoising/results/denoising_CC')\n",
    "\n",
    "# Check DataFrame of results.\n",
    "df_rearr = interpreter.rearrange_data_frame()\n",
    "df_rearr"
   ]
  },
  {
   "cell_type": "code",
   "execution_count": 4,
   "metadata": {},
   "outputs": [
    {
     "data": {
      "text/html": [
       "<div>\n",
       "<style scoped>\n",
       "    .dataframe tbody tr th:only-of-type {\n",
       "        vertical-align: middle;\n",
       "    }\n",
       "\n",
       "    .dataframe tbody tr th {\n",
       "        vertical-align: top;\n",
       "    }\n",
       "\n",
       "    .dataframe thead th {\n",
       "        text-align: right;\n",
       "    }\n",
       "</style>\n",
       "<table border=\"1\" class=\"dataframe\">\n",
       "  <thead>\n",
       "    <tr style=\"text-align: right;\">\n",
       "      <th></th>\n",
       "      <th>SNRin</th>\n",
       "      <th>Method</th>\n",
       "      <th>Parameter</th>\n",
       "      <th>Signal_id</th>\n",
       "      <th>Repetition</th>\n",
       "      <th>QRF</th>\n",
       "    </tr>\n",
       "  </thead>\n",
       "  <tbody>\n",
       "    <tr>\n",
       "      <th>0</th>\n",
       "      <td>-5</td>\n",
       "      <td>brevdo_method</td>\n",
       "      <td>((), {})</td>\n",
       "      <td>HermiteFunction</td>\n",
       "      <td>0</td>\n",
       "      <td>0.697859</td>\n",
       "    </tr>\n",
       "    <tr>\n",
       "      <th>1</th>\n",
       "      <td>-5</td>\n",
       "      <td>brevdo_method</td>\n",
       "      <td>((), {})</td>\n",
       "      <td>HermiteFunction</td>\n",
       "      <td>1</td>\n",
       "      <td>0.664181</td>\n",
       "    </tr>\n",
       "    <tr>\n",
       "      <th>2</th>\n",
       "      <td>-5</td>\n",
       "      <td>brevdo_method</td>\n",
       "      <td>((), {})</td>\n",
       "      <td>HermiteFunction</td>\n",
       "      <td>2</td>\n",
       "      <td>0.582211</td>\n",
       "    </tr>\n",
       "    <tr>\n",
       "      <th>3</th>\n",
       "      <td>-5</td>\n",
       "      <td>brevdo_method</td>\n",
       "      <td>((), {})</td>\n",
       "      <td>HermiteFunction</td>\n",
       "      <td>3</td>\n",
       "      <td>0.527699</td>\n",
       "    </tr>\n",
       "    <tr>\n",
       "      <th>4</th>\n",
       "      <td>-5</td>\n",
       "      <td>brevdo_method</td>\n",
       "      <td>((), {})</td>\n",
       "      <td>HermiteFunction</td>\n",
       "      <td>4</td>\n",
       "      <td>0.534738</td>\n",
       "    </tr>\n",
       "    <tr>\n",
       "      <th>...</th>\n",
       "      <td>...</td>\n",
       "      <td>...</td>\n",
       "      <td>...</td>\n",
       "      <td>...</td>\n",
       "      <td>...</td>\n",
       "      <td>...</td>\n",
       "    </tr>\n",
       "    <tr>\n",
       "      <th>10795</th>\n",
       "      <td>0</td>\n",
       "      <td>thresholding_hard</td>\n",
       "      <td>((), {})</td>\n",
       "      <td>McSyntheticMixture3</td>\n",
       "      <td>95</td>\n",
       "      <td>0.896756</td>\n",
       "    </tr>\n",
       "    <tr>\n",
       "      <th>10796</th>\n",
       "      <td>0</td>\n",
       "      <td>thresholding_hard</td>\n",
       "      <td>((), {})</td>\n",
       "      <td>McSyntheticMixture3</td>\n",
       "      <td>96</td>\n",
       "      <td>0.894642</td>\n",
       "    </tr>\n",
       "    <tr>\n",
       "      <th>10797</th>\n",
       "      <td>0</td>\n",
       "      <td>thresholding_hard</td>\n",
       "      <td>((), {})</td>\n",
       "      <td>McSyntheticMixture3</td>\n",
       "      <td>97</td>\n",
       "      <td>0.908941</td>\n",
       "    </tr>\n",
       "    <tr>\n",
       "      <th>10798</th>\n",
       "      <td>0</td>\n",
       "      <td>thresholding_hard</td>\n",
       "      <td>((), {})</td>\n",
       "      <td>McSyntheticMixture3</td>\n",
       "      <td>98</td>\n",
       "      <td>0.879443</td>\n",
       "    </tr>\n",
       "    <tr>\n",
       "      <th>10799</th>\n",
       "      <td>0</td>\n",
       "      <td>thresholding_hard</td>\n",
       "      <td>((), {})</td>\n",
       "      <td>McSyntheticMixture3</td>\n",
       "      <td>99</td>\n",
       "      <td>0.880798</td>\n",
       "    </tr>\n",
       "  </tbody>\n",
       "</table>\n",
       "<p>9600 rows × 6 columns</p>\n",
       "</div>"
      ],
      "text/plain": [
       "       SNRin             Method Parameter            Signal_id  Repetition  \\\n",
       "0         -5      brevdo_method  ((), {})      HermiteFunction           0   \n",
       "1         -5      brevdo_method  ((), {})      HermiteFunction           1   \n",
       "2         -5      brevdo_method  ((), {})      HermiteFunction           2   \n",
       "3         -5      brevdo_method  ((), {})      HermiteFunction           3   \n",
       "4         -5      brevdo_method  ((), {})      HermiteFunction           4   \n",
       "...      ...                ...       ...                  ...         ...   \n",
       "10795      0  thresholding_hard  ((), {})  McSyntheticMixture3          95   \n",
       "10796      0  thresholding_hard  ((), {})  McSyntheticMixture3          96   \n",
       "10797      0  thresholding_hard  ((), {})  McSyntheticMixture3          97   \n",
       "10798      0  thresholding_hard  ((), {})  McSyntheticMixture3          98   \n",
       "10799      0  thresholding_hard  ((), {})  McSyntheticMixture3          99   \n",
       "\n",
       "            QRF  \n",
       "0      0.697859  \n",
       "1      0.664181  \n",
       "2      0.582211  \n",
       "3      0.527699  \n",
       "4      0.534738  \n",
       "...         ...  \n",
       "10795  0.896756  \n",
       "10796  0.894642  \n",
       "10797  0.908941  \n",
       "10798  0.879443  \n",
       "10799  0.880798  \n",
       "\n",
       "[9600 rows x 6 columns]"
      ]
     },
     "execution_count": 4,
     "metadata": {},
     "output_type": "execute_result"
    }
   ],
   "source": [
    "# Check DataFrame of results.\n",
    "df_rearr = interpreter.rearrange_data_frame()\n",
    "df_rearr = df_rearr.loc[df_rearr['SNRin']<10,:]\n",
    "df_rearr = df_rearr.loc[df_rearr['Parameter']!='([], [], [], 0.4, 0.2, [], [], [], [], [])',:]\n",
    "\n",
    "df_rearr\n"
   ]
  },
  {
   "cell_type": "markdown",
   "id": "90f8a2fe",
   "metadata": {},
   "source": [
    "## Figures for the paper"
   ]
  },
  {
   "cell_type": "code",
   "execution_count": 5,
   "id": "4461e5fb",
   "metadata": {},
   "outputs": [],
   "source": [
    "plt.rc('text', usetex=True)\n",
    "plt.rc('font', family='serif')"
   ]
  },
  {
   "cell_type": "code",
   "execution_count": 6,
   "id": "b1e6fd46",
   "metadata": {},
   "outputs": [],
   "source": [
    "def inset_config(ax,fig,loc,stft):\n",
    "    \"\"\"Define configuration of inset axis\n",
    "\n",
    "    Args:\n",
    "        ax: Input axis.\n",
    "        fig: Input figure.\n",
    "        loc (int): int() indicating the quadrant where the inset is located.\n",
    "        stft (nd.array): STFT matrix, the modulus of which is shown in the inset.\n",
    "    \"\"\"\n",
    "    axins = inset_axes(ax, width=0.55, height=0.55, loc=loc) #loc=spectrogram_loc[i])\n",
    "    axins.imshow(np.abs(stft), origin='lower')\n",
    "    axins.axis('off')\n",
    "    fig.canvas.draw()\n",
    "    axins.tick_params(axis='both', \n",
    "                      which='both', \n",
    "                      bottom=False, \n",
    "                      top=False, \n",
    "                      labelbottom=False, \n",
    "                      right=False, \n",
    "                      left=False, \n",
    "                      labelleft=False)\n"
   ]
  },
  {
   "cell_type": "code",
   "execution_count": 7,
   "id": "af664c33",
   "metadata": {},
   "outputs": [
    {
     "name": "stdout",
     "output_type": "stream",
     "text": [
      "McMultiLinear\n"
     ]
    },
    {
     "name": "stderr",
     "output_type": "stream",
     "text": [
      "/home/juan/Nextcloud/Miramont_Juan/python_code/benchmark-test/.venv/lib/python3.10/site-packages/mcsm_benchs/ResultsInterpreter.py:502: SettingWithCopyWarning:\n",
      "\n",
      "\n",
      "A value is trying to be set on a copy of a slice from a DataFrame.\n",
      "Try using .loc[row_indexer,col_indexer] = value instead\n",
      "\n",
      "See the caveats in the documentation: https://pandas.pydata.org/pandas-docs/stable/user_guide/indexing.html#returning-a-view-versus-a-copy\n",
      "\n"
     ]
    },
    {
     "name": "stdout",
     "output_type": "stream",
     "text": [
      "McMultiLinear2\n"
     ]
    },
    {
     "name": "stderr",
     "output_type": "stream",
     "text": [
      "/home/juan/Nextcloud/Miramont_Juan/python_code/benchmark-test/.venv/lib/python3.10/site-packages/mcsm_benchs/ResultsInterpreter.py:502: SettingWithCopyWarning:\n",
      "\n",
      "\n",
      "A value is trying to be set on a copy of a slice from a DataFrame.\n",
      "Try using .loc[row_indexer,col_indexer] = value instead\n",
      "\n",
      "See the caveats in the documentation: https://pandas.pydata.org/pandas-docs/stable/user_guide/indexing.html#returning-a-view-versus-a-copy\n",
      "\n"
     ]
    },
    {
     "name": "stdout",
     "output_type": "stream",
     "text": [
      "McSyntheticMixture\n"
     ]
    },
    {
     "name": "stderr",
     "output_type": "stream",
     "text": [
      "/home/juan/Nextcloud/Miramont_Juan/python_code/benchmark-test/.venv/lib/python3.10/site-packages/mcsm_benchs/ResultsInterpreter.py:502: SettingWithCopyWarning:\n",
      "\n",
      "\n",
      "A value is trying to be set on a copy of a slice from a DataFrame.\n",
      "Try using .loc[row_indexer,col_indexer] = value instead\n",
      "\n",
      "See the caveats in the documentation: https://pandas.pydata.org/pandas-docs/stable/user_guide/indexing.html#returning-a-view-versus-a-copy\n",
      "\n"
     ]
    },
    {
     "name": "stdout",
     "output_type": "stream",
     "text": [
      "McSyntheticMixture2\n"
     ]
    },
    {
     "name": "stderr",
     "output_type": "stream",
     "text": [
      "/home/juan/Nextcloud/Miramont_Juan/python_code/benchmark-test/.venv/lib/python3.10/site-packages/mcsm_benchs/ResultsInterpreter.py:502: SettingWithCopyWarning:\n",
      "\n",
      "\n",
      "A value is trying to be set on a copy of a slice from a DataFrame.\n",
      "Try using .loc[row_indexer,col_indexer] = value instead\n",
      "\n",
      "See the caveats in the documentation: https://pandas.pydata.org/pandas-docs/stable/user_guide/indexing.html#returning-a-view-versus-a-copy\n",
      "\n"
     ]
    },
    {
     "name": "stdout",
     "output_type": "stream",
     "text": [
      "McSyntheticMixture3\n"
     ]
    },
    {
     "name": "stderr",
     "output_type": "stream",
     "text": [
      "/home/juan/Nextcloud/Miramont_Juan/python_code/benchmark-test/.venv/lib/python3.10/site-packages/mcsm_benchs/ResultsInterpreter.py:502: SettingWithCopyWarning:\n",
      "\n",
      "\n",
      "A value is trying to be set on a copy of a slice from a DataFrame.\n",
      "Try using .loc[row_indexer,col_indexer] = value instead\n",
      "\n",
      "See the caveats in the documentation: https://pandas.pydata.org/pandas-docs/stable/user_guide/indexing.html#returning-a-view-versus-a-copy\n",
      "\n"
     ]
    },
    {
     "name": "stdout",
     "output_type": "stream",
     "text": [
      "HermiteFunction\n"
     ]
    },
    {
     "name": "stderr",
     "output_type": "stream",
     "text": [
      "/home/juan/Nextcloud/Miramont_Juan/python_code/benchmark-test/.venv/lib/python3.10/site-packages/mcsm_benchs/ResultsInterpreter.py:502: SettingWithCopyWarning:\n",
      "\n",
      "\n",
      "A value is trying to be set on a copy of a slice from a DataFrame.\n",
      "Try using .loc[row_indexer,col_indexer] = value instead\n",
      "\n",
      "See the caveats in the documentation: https://pandas.pydata.org/pandas-docs/stable/user_guide/indexing.html#returning-a-view-versus-a-copy\n",
      "\n",
      "/tmp/ipykernel_12331/4212463145.py:63: UserWarning:\n",
      "\n",
      "FixedFormatter should only be used together with FixedLocator\n",
      "\n",
      "/home/juan/Nextcloud/Miramont_Juan/python_code/benchmark-test/.venv/lib/python3.10/site-packages/mcsm_benchs/SignalBank.py:1174: RuntimeWarning:\n",
      "\n",
      "divide by zero encountered in divide\n",
      "\n"
     ]
    },
    {
     "data": {
      "image/png": "[encoded data removed]",
      "text/plain": [
       "<Figure size 120x180 with 2 Axes>"
      ]
     },
     "metadata": {},
     "output_type": "display_data"
    },
    {
     "data": {
      "image/png": "[encoded data removed]",
      "text/plain": [
       "<Figure size 120x180 with 2 Axes>"
      ]
     },
     "metadata": {},
     "output_type": "display_data"
    },
    {
     "data": {
      "image/png": "[encoded data removed]",
      "text/plain": [
       "<Figure size 120x180 with 2 Axes>"
      ]
     },
     "metadata": {},
     "output_type": "display_data"
    },
    {
     "data": {
      "image/png": "[encoded data removed]",
      "text/plain": [
       "<Figure size 120x180 with 2 Axes>"
      ]
     },
     "metadata": {},
     "output_type": "display_data"
    },
    {
     "data": {
      "image/png": "[encoded data removed]",
      "text/plain": [
       "<Figure size 120x180 with 2 Axes>"
      ]
     },
     "metadata": {},
     "output_type": "display_data"
    },
    {
     "data": {
      "image/png": "[encoded data removed]",
      "text/plain": [
       "<Figure size 120x180 with 2 Axes>"
      ]
     },
     "metadata": {},
     "output_type": "display_data"
    },
    {
     "data": {
      "text/plain": [
       "<Figure size 640x480 with 0 Axes>"
      ]
     },
     "metadata": {},
     "output_type": "display_data"
    }
   ],
   "source": [
    "# Set the spectrogram parameters for each signal\n",
    "Nfft = 2*benchmark.N\n",
    "signals = benchmark.signal_ids\n",
    "\n",
    "# Figures size in inches\n",
    "fig_size_h = 1.8\n",
    "fig_size_w = 1.2\n",
    "\n",
    "# Get Figures as bar plots.\n",
    "errbar_params = {'errwidth':0.25,\n",
    "                'capsize':0.05,\n",
    "                }\n",
    "\n",
    "figs = interpreter.get_summary_plots(size=(fig_size_w,fig_size_h),\n",
    "                                    df_rearr=df_rearr.copy(),\n",
    "                                    savetofile=False, \n",
    "                                    plot_type='bars',\n",
    "                                    errbar_fun = ('ci',(1-0.05/8)*100),\n",
    "                                    errbar_params = errbar_params,\n",
    "                                    )\n",
    "\n",
    "for i, fig in enumerate(figs):\n",
    "    # Get signal the signal for each figure and compute spectrogram\n",
    "    s = benchmark.signal_dic[signals[i]]() \n",
    "    S, stft= get_spectrogram(s)\n",
    "    stft = stft[0:Nfft//2+1]\n",
    "    ax = fig.axes[0]\n",
    "\n",
    "    \n",
    "    axins = inset_axes(ax, width=0.4, height=0.4, loc=4) #loc=spectrogram_loc[i])\n",
    "    axins.imshow(np.abs(stft), origin='lower')\n",
    "    axins.axis('off')\n",
    "    fig.canvas.draw()\n",
    "    axins.tick_params(axis='both', \n",
    "                      which='both', \n",
    "                      bottom=False, \n",
    "                      top=False, \n",
    "                      labelbottom=False, \n",
    "                      right=False, \n",
    "                      left=False, \n",
    "                      labelleft=False)\n",
    "\n",
    "    ax.get_legend().remove()\n",
    "\n",
    "    ax.set_ylabel('', fontsize=7)\n",
    "    if i in [2,]:\n",
    "        ax.set_ylabel(r'CC', fontsize=7)\n",
    "\n",
    "    ax.set_title('',fontsize=6) #ax.get_title()\n",
    "    ax.set_ylabel(ax.get_ylabel(),fontsize=7)\n",
    "    \n",
    "    ax.set_xlabel(ax.get_xlabel(),fontsize=7)\n",
    "    ax.set_ylim([0.0, 1.0])\n",
    "    ax.set_xticklabels(ax.get_xticklabels(), fontsize=7)\n",
    "    if i not in [2,]:\n",
    "        for tick in ax.yaxis.get_major_ticks():\n",
    "            tick.tick1line.set_visible(False)\n",
    "            tick.tick2line.set_visible(False)\n",
    "            tick.label1.set_visible(False)\n",
    "            tick.label2.set_visible(False)\n",
    "    \n",
    "    fig.canvas.draw()\n",
    "    ax.set_yticklabels(ax.get_yticklabels(), fontsize=7)\n",
    "    plt.grid(True)\n",
    "    fig.canvas.draw()\n",
    "    \n",
    "    # Save figure\n",
    "    filename = os.path.join('figures','results_denoising_CC_'+signals[i]+'.pdf')\n",
    "    fig.savefig(filename, \n",
    "                dpi=900, \n",
    "                transparent=False, \n",
    "                bbox_inches='tight',\n",
    "                pad_inches=0.01,\n",
    "            )\n",
    "\n",
    "# Get a different figure with the personalized legend for the paper\n",
    "new_legends = (r'SST+RD',r'Contours',r'DT',r'ES',r'PB',r'SZC',r'T-Soft',r'T-Hard')\n",
    "legendFig = plt.figure()\n",
    "\n",
    "h,l = figs[0].axes[0].get_legend_handles_labels()\n",
    "legendFig.legend(h,new_legends, \n",
    "            fontsize='xx-small', \n",
    "            frameon=False, \n",
    "            loc='center', \n",
    "            ncol=4\n",
    "            )\n",
    "legendFig.canvas.draw()\n",
    "\n",
    "# Save figure\n",
    "filename = os.path.join('figures','legend_denoising_CC.pdf')\n",
    "legendFig.savefig(filename, dpi=900, transparent=False, bbox_inches='tight')\n",
    "\n",
    "plt.show()"
   ]
  }
 ],
 "metadata": {
  "kernelspec": {
   "display_name": ".venv",
   "language": "python",
   "name": "python3"
  },
  "language_info": {
   "codemirror_mode": {
    "name": "ipython",
    "version": 3
   },
   "file_extension": ".py",
   "mimetype": "text/x-python",
   "name": "python",
   "nbconvert_exporter": "python",
   "pygments_lexer": "ipython3",
   "version": "3.10.12"
  },
  "vscode": {
   "interpreter": {
    "hash": "3d67d1a14cd19c7bc615dc945d79494898891fe84f5bade29df784dd07b18bfd"
   }
  }
 },
 "nbformat": 4,
 "nbformat_minor": 5
}
