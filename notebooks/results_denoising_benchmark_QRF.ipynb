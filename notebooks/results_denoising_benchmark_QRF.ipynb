{
 "cells": [
  {
   "cell_type": "markdown",
   "id": "0dc0b623",
   "metadata": {},
   "source": [
    "# Displaying results for the signal denoising benchmark\n",
    "\n",
    "This notebooks loads the results of the benchmark and generates the figures shown in the paper."
   ]
  },
  {
   "cell_type": "code",
   "execution_count": 1,
   "id": "937428c9",
   "metadata": {},
   "outputs": [],
   "source": [
    "import numpy as np\n",
    "from matplotlib import pyplot as plt\n",
    "from mpl_toolkits.axes_grid1.inset_locator import inset_axes\n",
    "from mcsm_benchs.Benchmark import Benchmark\n",
    "from mcsm_benchs.ResultsInterpreter import ResultsInterpreter\n",
    "from mcsm_benchs.SignalBank import SignalBank\n",
    "from src.utilities.utilstf import *\n",
    "import os\n"
   ]
  },
  {
   "cell_type": "code",
   "execution_count": 2,
   "id": "94cfe65a",
   "metadata": {},
   "outputs": [],
   "source": [
    "# Load the benchmark results\n",
    "filename = os.path.join('..','results','last_benchmark_denoising')\n",
    "benchmark = Benchmark.load_benchmark(filename)\n",
    "\n",
    "# Load interpreter.\n",
    "interpreter = ResultsInterpreter(benchmark)"
   ]
  },
  {
   "cell_type": "code",
   "execution_count": 3,
   "metadata": {},
   "outputs": [
    {
     "data": {
      "text/html": [
       "<div>\n",
       "<style scoped>\n",
       "    .dataframe tbody tr th:only-of-type {\n",
       "        vertical-align: middle;\n",
       "    }\n",
       "\n",
       "    .dataframe tbody tr th {\n",
       "        vertical-align: top;\n",
       "    }\n",
       "\n",
       "    .dataframe thead th {\n",
       "        text-align: right;\n",
       "    }\n",
       "</style>\n",
       "<table border=\"1\" class=\"dataframe\">\n",
       "  <thead>\n",
       "    <tr style=\"text-align: right;\">\n",
       "      <th></th>\n",
       "      <th>SNRin</th>\n",
       "      <th>Method</th>\n",
       "      <th>Parameter</th>\n",
       "      <th>Signal_id</th>\n",
       "      <th>Repetition</th>\n",
       "      <th>QRF</th>\n",
       "    </tr>\n",
       "  </thead>\n",
       "  <tbody>\n",
       "    <tr>\n",
       "      <th>0</th>\n",
       "      <td>-5</td>\n",
       "      <td>contour_filtering</td>\n",
       "      <td>((), {})</td>\n",
       "      <td>HermiteFunction</td>\n",
       "      <td>0</td>\n",
       "      <td>3.006098</td>\n",
       "    </tr>\n",
       "    <tr>\n",
       "      <th>1</th>\n",
       "      <td>-5</td>\n",
       "      <td>contour_filtering</td>\n",
       "      <td>((), {})</td>\n",
       "      <td>HermiteFunction</td>\n",
       "      <td>1</td>\n",
       "      <td>2.616629</td>\n",
       "    </tr>\n",
       "    <tr>\n",
       "      <th>2</th>\n",
       "      <td>-5</td>\n",
       "      <td>contour_filtering</td>\n",
       "      <td>((), {})</td>\n",
       "      <td>HermiteFunction</td>\n",
       "      <td>2</td>\n",
       "      <td>2.691644</td>\n",
       "    </tr>\n",
       "    <tr>\n",
       "      <th>3</th>\n",
       "      <td>-5</td>\n",
       "      <td>contour_filtering</td>\n",
       "      <td>((), {})</td>\n",
       "      <td>HermiteFunction</td>\n",
       "      <td>3</td>\n",
       "      <td>2.519931</td>\n",
       "    </tr>\n",
       "    <tr>\n",
       "      <th>4</th>\n",
       "      <td>-5</td>\n",
       "      <td>contour_filtering</td>\n",
       "      <td>((), {})</td>\n",
       "      <td>HermiteFunction</td>\n",
       "      <td>4</td>\n",
       "      <td>3.606654</td>\n",
       "    </tr>\n",
       "    <tr>\n",
       "      <th>...</th>\n",
       "      <td>...</td>\n",
       "      <td>...</td>\n",
       "      <td>...</td>\n",
       "      <td>...</td>\n",
       "      <td>...</td>\n",
       "      <td>...</td>\n",
       "    </tr>\n",
       "    <tr>\n",
       "      <th>25195</th>\n",
       "      <td>20</td>\n",
       "      <td>thresholding_hard</td>\n",
       "      <td>((), {})</td>\n",
       "      <td>McSyntheticMixture4</td>\n",
       "      <td>95</td>\n",
       "      <td>24.916538</td>\n",
       "    </tr>\n",
       "    <tr>\n",
       "      <th>25196</th>\n",
       "      <td>20</td>\n",
       "      <td>thresholding_hard</td>\n",
       "      <td>((), {})</td>\n",
       "      <td>McSyntheticMixture4</td>\n",
       "      <td>96</td>\n",
       "      <td>25.229321</td>\n",
       "    </tr>\n",
       "    <tr>\n",
       "      <th>25197</th>\n",
       "      <td>20</td>\n",
       "      <td>thresholding_hard</td>\n",
       "      <td>((), {})</td>\n",
       "      <td>McSyntheticMixture4</td>\n",
       "      <td>97</td>\n",
       "      <td>25.063779</td>\n",
       "    </tr>\n",
       "    <tr>\n",
       "      <th>25198</th>\n",
       "      <td>20</td>\n",
       "      <td>thresholding_hard</td>\n",
       "      <td>((), {})</td>\n",
       "      <td>McSyntheticMixture4</td>\n",
       "      <td>98</td>\n",
       "      <td>24.019049</td>\n",
       "    </tr>\n",
       "    <tr>\n",
       "      <th>25199</th>\n",
       "      <td>20</td>\n",
       "      <td>thresholding_hard</td>\n",
       "      <td>((), {})</td>\n",
       "      <td>McSyntheticMixture4</td>\n",
       "      <td>99</td>\n",
       "      <td>24.714584</td>\n",
       "    </tr>\n",
       "  </tbody>\n",
       "</table>\n",
       "<p>25200 rows × 6 columns</p>\n",
       "</div>"
      ],
      "text/plain": [
       "       SNRin             Method Parameter            Signal_id  Repetition  \\\n",
       "0         -5  contour_filtering  ((), {})      HermiteFunction           0   \n",
       "1         -5  contour_filtering  ((), {})      HermiteFunction           1   \n",
       "2         -5  contour_filtering  ((), {})      HermiteFunction           2   \n",
       "3         -5  contour_filtering  ((), {})      HermiteFunction           3   \n",
       "4         -5  contour_filtering  ((), {})      HermiteFunction           4   \n",
       "...      ...                ...       ...                  ...         ...   \n",
       "25195     20  thresholding_hard  ((), {})  McSyntheticMixture4          95   \n",
       "25196     20  thresholding_hard  ((), {})  McSyntheticMixture4          96   \n",
       "25197     20  thresholding_hard  ((), {})  McSyntheticMixture4          97   \n",
       "25198     20  thresholding_hard  ((), {})  McSyntheticMixture4          98   \n",
       "25199     20  thresholding_hard  ((), {})  McSyntheticMixture4          99   \n",
       "\n",
       "             QRF  \n",
       "0       3.006098  \n",
       "1       2.616629  \n",
       "2       2.691644  \n",
       "3       2.519931  \n",
       "4       3.606654  \n",
       "...          ...  \n",
       "25195  24.916538  \n",
       "25196  25.229321  \n",
       "25197  25.063779  \n",
       "25198  24.019049  \n",
       "25199  24.714584  \n",
       "\n",
       "[25200 rows x 6 columns]"
      ]
     },
     "execution_count": 3,
     "metadata": {},
     "output_type": "execute_result"
    }
   ],
   "source": [
    "# Get report and figures for the paper/repository\n",
    "\n",
    "# Interactive figures shown in the repo\n",
    "interpreter.get_html_figures(path='../results/denoising',bars=True,difference=True)\n",
    "\n",
    "# .csv files for sharing results\n",
    "interpreter.get_csv_files(path='../results/denoising')\n",
    "\n",
    "# Report shown in the repo \n",
    "interpreter.save_report(path='../results', link='https://jmiramont.github.io/benchmarks-detection-denoising/results/denoising')\n",
    "\n",
    "# Check DataFrame of results.\n",
    "df_rearr = interpreter.rearrange_data_frame()\n",
    "df_rearr\n"
   ]
  },
  {
   "cell_type": "markdown",
   "id": "90f8a2fe",
   "metadata": {},
   "source": [
    "## Figures for the paper"
   ]
  },
  {
   "cell_type": "code",
   "execution_count": 4,
   "id": "4461e5fb",
   "metadata": {},
   "outputs": [],
   "source": [
    "plt.rc('text', usetex=True)\n",
    "plt.rc('font', family='serif')"
   ]
  },
  {
   "cell_type": "code",
   "execution_count": 5,
   "id": "b1e6fd46",
   "metadata": {},
   "outputs": [],
   "source": [
    "def inset_config(ax,fig,loc,stft):\n",
    "    \"\"\"Define configuration of inset axis\n",
    "\n",
    "    Args:\n",
    "        ax: Input axis.\n",
    "        fig: Input figure.\n",
    "        loc (int): int() indicating the quadrant where the inset is located.\n",
    "        stft (nd.array): STFT matrix, the modulus of which is shown in the inset.\n",
    "    \"\"\"\n",
    "    axins = inset_axes(ax, width=0.55, height=0.55, loc=loc) #loc=spectrogram_loc[i])\n",
    "    axins.imshow(np.abs(stft), origin='lower')\n",
    "    axins.axis('off')\n",
    "    fig.canvas.draw()\n",
    "    axins.tick_params(axis='both', \n",
    "                      which='both', \n",
    "                      bottom=False, \n",
    "                      top=False, \n",
    "                      labelbottom=False, \n",
    "                      right=False, \n",
    "                      left=False, \n",
    "                      labelleft=False)\n"
   ]
  },
  {
   "cell_type": "code",
   "execution_count": 6,
   "id": "af664c33",
   "metadata": {},
   "outputs": [
    {
     "name": "stdout",
     "output_type": "stream",
     "text": [
      "McMultiLinear\n"
     ]
    },
    {
     "name": "stderr",
     "output_type": "stream",
     "text": [
      "/home/juan/Nextcloud/Miramont_Juan/python_code/benchmark-test/.venv/lib/python3.10/site-packages/mcsm_benchs/ResultsInterpreter.py:502: SettingWithCopyWarning:\n",
      "\n",
      "\n",
      "A value is trying to be set on a copy of a slice from a DataFrame.\n",
      "Try using .loc[row_indexer,col_indexer] = value instead\n",
      "\n",
      "See the caveats in the documentation: https://pandas.pydata.org/pandas-docs/stable/user_guide/indexing.html#returning-a-view-versus-a-copy\n",
      "\n"
     ]
    },
    {
     "name": "stdout",
     "output_type": "stream",
     "text": [
      "McMultiLinear2\n"
     ]
    },
    {
     "name": "stderr",
     "output_type": "stream",
     "text": [
      "/home/juan/Nextcloud/Miramont_Juan/python_code/benchmark-test/.venv/lib/python3.10/site-packages/mcsm_benchs/ResultsInterpreter.py:502: SettingWithCopyWarning:\n",
      "\n",
      "\n",
      "A value is trying to be set on a copy of a slice from a DataFrame.\n",
      "Try using .loc[row_indexer,col_indexer] = value instead\n",
      "\n",
      "See the caveats in the documentation: https://pandas.pydata.org/pandas-docs/stable/user_guide/indexing.html#returning-a-view-versus-a-copy\n",
      "\n"
     ]
    },
    {
     "name": "stdout",
     "output_type": "stream",
     "text": [
      "McSyntheticMixture\n"
     ]
    },
    {
     "name": "stderr",
     "output_type": "stream",
     "text": [
      "/home/juan/Nextcloud/Miramont_Juan/python_code/benchmark-test/.venv/lib/python3.10/site-packages/mcsm_benchs/ResultsInterpreter.py:502: SettingWithCopyWarning:\n",
      "\n",
      "\n",
      "A value is trying to be set on a copy of a slice from a DataFrame.\n",
      "Try using .loc[row_indexer,col_indexer] = value instead\n",
      "\n",
      "See the caveats in the documentation: https://pandas.pydata.org/pandas-docs/stable/user_guide/indexing.html#returning-a-view-versus-a-copy\n",
      "\n"
     ]
    },
    {
     "name": "stdout",
     "output_type": "stream",
     "text": [
      "McSyntheticMixture2\n"
     ]
    },
    {
     "name": "stderr",
     "output_type": "stream",
     "text": [
      "/home/juan/Nextcloud/Miramont_Juan/python_code/benchmark-test/.venv/lib/python3.10/site-packages/mcsm_benchs/ResultsInterpreter.py:502: SettingWithCopyWarning:\n",
      "\n",
      "\n",
      "A value is trying to be set on a copy of a slice from a DataFrame.\n",
      "Try using .loc[row_indexer,col_indexer] = value instead\n",
      "\n",
      "See the caveats in the documentation: https://pandas.pydata.org/pandas-docs/stable/user_guide/indexing.html#returning-a-view-versus-a-copy\n",
      "\n"
     ]
    },
    {
     "name": "stdout",
     "output_type": "stream",
     "text": [
      "McSyntheticMixture3\n"
     ]
    },
    {
     "name": "stderr",
     "output_type": "stream",
     "text": [
      "/home/juan/Nextcloud/Miramont_Juan/python_code/benchmark-test/.venv/lib/python3.10/site-packages/mcsm_benchs/ResultsInterpreter.py:502: SettingWithCopyWarning:\n",
      "\n",
      "\n",
      "A value is trying to be set on a copy of a slice from a DataFrame.\n",
      "Try using .loc[row_indexer,col_indexer] = value instead\n",
      "\n",
      "See the caveats in the documentation: https://pandas.pydata.org/pandas-docs/stable/user_guide/indexing.html#returning-a-view-versus-a-copy\n",
      "\n"
     ]
    },
    {
     "name": "stdout",
     "output_type": "stream",
     "text": [
      "McSyntheticMixture4\n"
     ]
    },
    {
     "name": "stderr",
     "output_type": "stream",
     "text": [
      "/home/juan/Nextcloud/Miramont_Juan/python_code/benchmark-test/.venv/lib/python3.10/site-packages/mcsm_benchs/ResultsInterpreter.py:502: SettingWithCopyWarning:\n",
      "\n",
      "\n",
      "A value is trying to be set on a copy of a slice from a DataFrame.\n",
      "Try using .loc[row_indexer,col_indexer] = value instead\n",
      "\n",
      "See the caveats in the documentation: https://pandas.pydata.org/pandas-docs/stable/user_guide/indexing.html#returning-a-view-versus-a-copy\n",
      "\n"
     ]
    },
    {
     "name": "stdout",
     "output_type": "stream",
     "text": [
      "HermiteFunction\n"
     ]
    },
    {
     "name": "stderr",
     "output_type": "stream",
     "text": [
      "/home/juan/Nextcloud/Miramont_Juan/python_code/benchmark-test/.venv/lib/python3.10/site-packages/mcsm_benchs/ResultsInterpreter.py:502: SettingWithCopyWarning:\n",
      "\n",
      "\n",
      "A value is trying to be set on a copy of a slice from a DataFrame.\n",
      "Try using .loc[row_indexer,col_indexer] = value instead\n",
      "\n",
      "See the caveats in the documentation: https://pandas.pydata.org/pandas-docs/stable/user_guide/indexing.html#returning-a-view-versus-a-copy\n",
      "\n",
      "/tmp/ipykernel_12893/2595269314.py:67: UserWarning:\n",
      "\n",
      "FixedFormatter should only be used together with FixedLocator\n",
      "\n",
      "/home/juan/Nextcloud/Miramont_Juan/python_code/benchmark-test/.venv/lib/python3.10/site-packages/mcsm_benchs/SignalBank.py:1174: RuntimeWarning:\n",
      "\n",
      "divide by zero encountered in divide\n",
      "\n",
      "/home/juan/Nextcloud/Miramont_Juan/python_code/benchmark-test/.venv/lib/python3.10/site-packages/mcsm_benchs/SignalBank.py:1362: RuntimeWarning:\n",
      "\n",
      "divide by zero encountered in divide\n",
      "\n"
     ]
    },
    {
     "data": {
      "image/png": "[encoded data removed]",
      "text/plain": [
       "<Figure size 400x180 with 2 Axes>"
      ]
     },
     "metadata": {},
     "output_type": "display_data"
    },
    {
     "data": {
      "image/png": "[encoded data removed]",
      "text/plain": [
       "<Figure size 400x180 with 2 Axes>"
      ]
     },
     "metadata": {},
     "output_type": "display_data"
    },
    {
     "data": {
      "image/png": "[encoded data removed]",
      "text/plain": [
       "<Figure size 400x180 with 2 Axes>"
      ]
     },
     "metadata": {},
     "output_type": "display_data"
    },
    {
     "data": {
      "image/png": "[encoded data removed]",
      "text/plain": [
       "<Figure size 400x180 with 2 Axes>"
      ]
     },
     "metadata": {},
     "output_type": "display_data"
    },
    {
     "data": {
      "image/png": "[encoded data removed]",
      "text/plain": [
       "<Figure size 400x180 with 2 Axes>"
      ]
     },
     "metadata": {},
     "output_type": "display_data"
    },
    {
     "data": {
      "image/png": "[encoded data removed]",
      "text/plain": [
       "<Figure size 400x180 with 2 Axes>"
      ]
     },
     "metadata": {},
     "output_type": "display_data"
    },
    {
     "data": {
      "image/png": "[encoded data removed]",
      "text/plain": [
       "<Figure size 400x180 with 2 Axes>"
      ]
     },
     "metadata": {},
     "output_type": "display_data"
    },
    {
     "data": {
      "text/plain": [
       "<Figure size 640x480 with 0 Axes>"
      ]
     },
     "metadata": {},
     "output_type": "display_data"
    }
   ],
   "source": [
    "# Set the spectrogram parameters for each signal\n",
    "Nfft = 2*benchmark.N\n",
    "signals = benchmark.signal_ids\n",
    "g,_ = get_round_window(Nfft)\n",
    "\n",
    "# Figures size in inches\n",
    "fig_size_h = 1.8\n",
    "fig_size_w = 4\n",
    "\n",
    "# Get Figures as bar plots.\n",
    "errbar_params = {'errwidth':0.25,\n",
    "                'capsize':0.05,\n",
    "                }\n",
    "\n",
    "figs = interpreter.get_summary_plots(size=(fig_size_w,fig_size_h),\n",
    "                                    df_rearr=df_rearr.copy(), \n",
    "                                     savetofile=False, \n",
    "                                     plot_type='bars',\n",
    "                                     errbar_fun = ('ci',(1-0.05/9)*100),\n",
    "                                     errbar_params = errbar_params,\n",
    "                                     magnitude = 'difference',\n",
    "                                    )\n",
    "\n",
    "for i, fig in enumerate(figs):\n",
    "    # Get signal the signal for each figure and compute spectrogram\n",
    "    s = benchmark.signal_dic[signals[i]]() \n",
    "    S, stft= get_spectrogram(s , window=g)\n",
    "    stft = stft[0:Nfft//2+1]\n",
    "    ax = fig.axes[0]\n",
    "\n",
    "    \n",
    "    if np.mod(i,2) > 0:\n",
    "        ax.set_ylabel('', fontsize=6)\n",
    "    else:\n",
    "        ax.set_ylabel(r'QRF$-$SNRin (dB)', fontsize=6)\n",
    "\n",
    "    if i == (len(figs)-1):\n",
    "        ax.set_ylabel('', fontsize=6)\n",
    "\n",
    "    ax.set_title('',fontsize=6) #ax.get_title()\n",
    "    ax.set_ylabel(ax.get_ylabel(),fontsize=7)\n",
    "\n",
    "    # Personalize each inset showing the spectrogram of the signal\n",
    "    if i == 0:\n",
    "        ax.set_ylim([0, 12])\n",
    "        inset_config(ax,fig,2,stft)\n",
    "    elif i == 1:\n",
    "        ax.set_ylim([-18, 7])\n",
    "        inset_config(ax,fig,3,stft)\n",
    "        ax.set_yticks([-15, -10, -5, 0, 5])        \n",
    "    elif i == 3:\n",
    "        ax.set_ylim([0, 12])\n",
    "        inset_config(ax,fig,1,stft)\n",
    "    elif i == 4:\n",
    "        ax.set_ylim([-7, 10])\n",
    "        inset_config(ax,fig,3,stft)    \n",
    "    else:\n",
    "        inset_config(ax,fig,3,stft)\n",
    "\n",
    "    # Personalize each figure\n",
    "    ax.set_title(signals[i])    \n",
    "    ax.get_legend().remove() # Remove legends. These are shown in a different figure.\n",
    "\n",
    "    ax.set_xlabel(ax.get_xlabel(),fontsize=7)\n",
    "    ax.set_xticklabels(ax.get_xticklabels(), fontsize=7)\n",
    "    fig.canvas.draw()\n",
    "    ax.set_yticklabels(ax.get_yticklabels(), fontsize=7)\n",
    "    plt.grid(True)\n",
    "    fig.canvas.draw()\n",
    "    \n",
    "    # Save figure\n",
    "    filename = os.path.join('figures','results_denoising_'+signals[i]+'.pdf')\n",
    "    fig.savefig(filename, \n",
    "                dpi=900, \n",
    "                transparent=False, \n",
    "                bbox_inches='tight',\n",
    "                pad_inches=0.01,\n",
    "            )\n",
    "\n",
    "# Get a different figure with the personalized legend for the paper\n",
    "new_legends = (r'Contours',r'DT',r'ES',r'PB ($\\alpha=0.2$-$\\beta=0.4$)',r'PB-($\\alpha=\\beta=0.4$)',r'SST+RD',r'SZC',r'T-Soft',r'T-Hard')\n",
    "legendFig = plt.figure()\n",
    "\n",
    "h,l = figs[0].axes[0].get_legend_handles_labels()\n",
    "legendFig.legend(h,new_legends, \n",
    "            fontsize='xx-small', \n",
    "            frameon=False, \n",
    "            loc='center', \n",
    "            ncol=9\n",
    "            )\n",
    "legendFig.canvas.draw()\n",
    "\n",
    "# Save figure\n",
    "filename = os.path.join('figures','legend_denoising.pdf')\n",
    "legendFig.savefig(filename, dpi=900, transparent=False, bbox_inches='tight')\n",
    "\n",
    "plt.show()"
   ]
  }
 ],
 "metadata": {
  "kernelspec": {
   "display_name": ".venv",
   "language": "python",
   "name": "python3"
  },
  "language_info": {
   "codemirror_mode": {
    "name": "ipython",
    "version": 3
   },
   "file_extension": ".py",
   "mimetype": "text/x-python",
   "name": "python",
   "nbconvert_exporter": "python",
   "pygments_lexer": "ipython3",
   "version": "3.10.12"
  },
  "vscode": {
   "interpreter": {
    "hash": "3d67d1a14cd19c7bc615dc945d79494898891fe84f5bade29df784dd07b18bfd"
   }
  }
 },
 "nbformat": 4,
 "nbformat_minor": 5
}
